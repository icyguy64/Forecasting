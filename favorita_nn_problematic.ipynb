{
 "cells": [
  {
   "cell_type": "markdown",
   "metadata": {},
   "source": [
    "# Favorita Dataset\n",
    "\n",
    "This script has some issues"
   ]
  },
  {
   "cell_type": "code",
   "execution_count": 1,
   "metadata": {},
   "outputs": [
    {
     "name": "stderr",
     "output_type": "stream",
     "text": [
      "Using TensorFlow backend.\n"
     ]
    }
   ],
   "source": [
    "\"\"\"\n",
    "This is an upgraded version of Ceshine's and Linzhi and Andy Harless starter script, simply adding more\n",
    "average features and weekly average features on it.\n",
    "\"\"\"\n",
    "from datetime import date, timedelta\n",
    "import pandas as pd\n",
    "import numpy as np\n",
    "from sklearn.preprocessing import LabelEncoder\n",
    "from sklearn.metrics import mean_squared_error\n",
    "from sklearn.preprocessing import StandardScaler\n",
    "from keras.models import Sequential\n",
    "from keras.layers.core import Dense, Dropout, Activation\n",
    "from keras.layers.advanced_activations import PReLU\n",
    "from keras.layers.normalization import BatchNormalization\n",
    "from keras.layers import LSTM\n",
    "from keras import callbacks\n",
    "from keras import optimizers\n",
    "from keras.callbacks import ModelCheckpoint, EarlyStopping, ReduceLROnPlateau\n",
    "import gc"
   ]
  },
  {
   "cell_type": "code",
   "execution_count": 2,
   "metadata": {},
   "outputs": [],
   "source": [
    "df_train = pd.read_csv(\n",
    "    '../input/train.csv', usecols=[1, 2, 3, 4, 5],\n",
    "    dtype={'onpromotion': bool},\n",
    "    converters={'unit_sales': lambda u: np.log1p(\n",
    "        float(u)) if float(u) > 0 else 0},\n",
    "    parse_dates=[\"date\"],\n",
    "    skiprows=range(1, 66458909)  # 2016-01-01\n",
    ")\n",
    "\n",
    "df_test = pd.read_csv(\n",
    "    \"../input/test.csv\", usecols=[0, 1, 2, 3, 4],\n",
    "    dtype={'onpromotion': bool},\n",
    "    parse_dates=[\"date\"]  # , date_parser=parser\n",
    ").set_index(\n",
    "    ['store_nbr', 'item_nbr', 'date']\n",
    ")\n",
    "\n",
    "items = pd.read_csv(\n",
    "    \"../input/items.csv\",\n",
    ").set_index(\"item_nbr\")\n",
    "\n",
    "stores = pd.read_csv(\n",
    "    \"../input/stores.csv\",\n",
    ").set_index(\"store_nbr\")"
   ]
  },
  {
   "cell_type": "code",
   "execution_count": 3,
   "metadata": {},
   "outputs": [
    {
     "name": "stderr",
     "output_type": "stream",
     "text": [
      "C:\\ProgramData\\Anaconda3\\lib\\site-packages\\ipykernel_launcher.py:9: FutureWarning: The pandas.datetime class is deprecated and will be removed from pandas in a future version. Import from datetime module instead.\n",
      "  if __name__ == '__main__':\n"
     ]
    }
   ],
   "source": [
    "le = LabelEncoder()\n",
    "\n",
    "items['family'] = le.fit_transform(items['family'].values)\n",
    "\n",
    "stores['city'] = le.fit_transform(stores['city'].values)\n",
    "stores['state'] = le.fit_transform(stores['state'].values)\n",
    "stores['type'] = le.fit_transform(stores['type'].values)\n",
    "\n",
    "df_2017 = df_train.loc[df_train.date>=pd.datetime(2017,1,1)]\n",
    "del df_train"
   ]
  },
  {
   "cell_type": "code",
   "execution_count": 4,
   "metadata": {},
   "outputs": [],
   "source": [
    "promo_2017_train = df_2017.set_index(\n",
    "    [\"store_nbr\", \"item_nbr\", \"date\"])[[\"onpromotion\"]].unstack(\n",
    "        level=-1).fillna(False)\n",
    "promo_2017_train.columns = promo_2017_train.columns.get_level_values(1)\n",
    "promo_2017_test = df_test[[\"onpromotion\"]].unstack(level=-1).fillna(False)\n",
    "promo_2017_test.columns = promo_2017_test.columns.get_level_values(1)\n",
    "promo_2017_test = promo_2017_test.reindex(promo_2017_train.index).fillna(False)\n",
    "promo_2017 = pd.concat([promo_2017_train, promo_2017_test], axis=1)\n",
    "del promo_2017_test, promo_2017_train"
   ]
  },
  {
   "cell_type": "code",
   "execution_count": 5,
   "metadata": {},
   "outputs": [],
   "source": [
    "df_2017 = df_2017.set_index(\n",
    "    [\"store_nbr\", \"item_nbr\", \"date\"])[[\"unit_sales\"]].unstack(\n",
    "        level=-1).fillna(0)\n",
    "df_2017.columns = df_2017.columns.get_level_values(1)\n",
    "\n",
    "items = items.reindex(df_2017.index.get_level_values(1))\n",
    "stores = stores.reindex(df_2017.index.get_level_values(0))"
   ]
  },
  {
   "cell_type": "code",
   "execution_count": 6,
   "metadata": {},
   "outputs": [],
   "source": [
    "df_2017_item = df_2017.groupby('item_nbr')[df_2017.columns].sum()\n",
    "\n",
    "df_2017_store_class = df_2017.reset_index()\n",
    "df_2017_store_class['class'] = items['class'].values\n",
    "df_2017_store_class_index = df_2017_store_class[['class', 'store_nbr']]\n",
    "df_2017_store_class = df_2017_store_class.groupby(['class', 'store_nbr'])[df_2017.columns].sum()"
   ]
  },
  {
   "cell_type": "code",
   "execution_count": 7,
   "metadata": {},
   "outputs": [],
   "source": [
    "promo_2017_item = promo_2017.groupby('item_nbr')[promo_2017.columns].sum()\n",
    "\n",
    "df_2017_promo_store_class = promo_2017.reset_index()\n",
    "df_2017_promo_store_class['class'] = items['class'].values\n",
    "df_2017_promo_store_class_index = df_2017_promo_store_class[['class', 'store_nbr']]\n",
    "df_2017_promo_store_class = df_2017_promo_store_class.groupby(['class', 'store_nbr'])[promo_2017.columns].sum()"
   ]
  },
  {
   "cell_type": "code",
   "execution_count": 8,
   "metadata": {},
   "outputs": [],
   "source": [
    "def get_timespan(df, dt, minus, periods, freq='D'):\n",
    "    return df[pd.date_range(dt - timedelta(days=minus), periods=periods, freq=freq)]\n",
    "\n",
    "def prepare_dataset(df, promo_df, t2017, is_train=True, name_prefix=None):\n",
    "    X = {\n",
    "        \"promo_14_2017\": get_timespan(promo_df, t2017, 14, 14).sum(axis=1).values,\n",
    "        \"promo_60_2017\": get_timespan(promo_df, t2017, 60, 60).sum(axis=1).values,\n",
    "        \"promo_140_2017\": get_timespan(promo_df, t2017, 140, 140).sum(axis=1).values,\n",
    "        \"promo_3_2017_aft\": get_timespan(promo_df, t2017 + timedelta(days=16), 15, 3).sum(axis=1).values,\n",
    "        \"promo_7_2017_aft\": get_timespan(promo_df, t2017 + timedelta(days=16), 15, 7).sum(axis=1).values,\n",
    "        \"promo_14_2017_aft\": get_timespan(promo_df, t2017 + timedelta(days=16), 15, 14).sum(axis=1).values,\n",
    "    }\n",
    "\n",
    "    for i in [3, 7, 14, 30, 60, 140]:\n",
    "        tmp = get_timespan(df, t2017, i, i)\n",
    "        X['diff_%s_mean' % i] = tmp.diff(axis=1).mean(axis=1).values\n",
    "        X['mean_%s_decay' % i] = (tmp * np.power(0.9, np.arange(i)[::-1])).sum(axis=1).values\n",
    "        X['mean_%s' % i] = tmp.mean(axis=1).values\n",
    "        X['median_%s' % i] = tmp.median(axis=1).values\n",
    "        X['min_%s' % i] = tmp.min(axis=1).values\n",
    "        X['max_%s' % i] = tmp.max(axis=1).values\n",
    "        X['std_%s' % i] = tmp.std(axis=1).values\n",
    "\n",
    "    for i in [3, 7, 14, 30, 60, 140]:\n",
    "        tmp = get_timespan(df, t2017 + timedelta(days=-7), i, i)\n",
    "        X['diff_%s_mean_2' % i] = tmp.diff(axis=1).mean(axis=1).values\n",
    "        X['mean_%s_decay_2' % i] = (tmp * np.power(0.9, np.arange(i)[::-1])).sum(axis=1).values\n",
    "        X['mean_%s_2' % i] = tmp.mean(axis=1).values\n",
    "        X['median_%s_2' % i] = tmp.median(axis=1).values\n",
    "        X['min_%s_2' % i] = tmp.min(axis=1).values\n",
    "        X['max_%s_2' % i] = tmp.max(axis=1).values\n",
    "        X['std_%s_2' % i] = tmp.std(axis=1).values\n",
    "\n",
    "    for i in [7, 14, 30, 60, 140]:\n",
    "        tmp = get_timespan(df, t2017, i, i)\n",
    "        X['has_sales_days_in_last_%s' % i] = (tmp > 0).sum(axis=1).values\n",
    "        X['last_has_sales_day_in_last_%s' % i] = i - ((tmp > 0) * np.arange(i)).max(axis=1).values\n",
    "        X['first_has_sales_day_in_last_%s' % i] = ((tmp > 0) * np.arange(i, 0, -1)).max(axis=1).values\n",
    "\n",
    "        tmp = get_timespan(promo_df, t2017, i, i)\n",
    "        X['has_promo_days_in_last_%s' % i] = (tmp > 0).sum(axis=1).values\n",
    "        X['last_has_promo_day_in_last_%s' % i] = i - ((tmp > 0) * np.arange(i)).max(axis=1).values\n",
    "        X['first_has_promo_day_in_last_%s' % i] = ((tmp > 0) * np.arange(i, 0, -1)).max(axis=1).values\n",
    "\n",
    "    tmp = get_timespan(promo_df, t2017 + timedelta(days=16), 15, 15)\n",
    "    X['has_promo_days_in_after_15_days'] = (tmp > 0).sum(axis=1).values\n",
    "    X['last_has_promo_day_in_after_15_days'] = i - ((tmp > 0) * np.arange(15)).max(axis=1).values\n",
    "    X['first_has_promo_day_in_after_15_days'] = ((tmp > 0) * np.arange(15, 0, -1)).max(axis=1).values\n",
    "\n",
    "    for i in range(1, 16):\n",
    "        X['day_%s_2017' % i] = get_timespan(df, t2017, i, 1).values.ravel()\n",
    "\n",
    "    for i in range(7):\n",
    "        X['mean_4_dow{}_2017'.format(i)] = get_timespan(df, t2017, 28-i, 4, freq='7D').mean(axis=1).values\n",
    "        X['mean_20_dow{}_2017'.format(i)] = get_timespan(df, t2017, 140-i, 20, freq='7D').mean(axis=1).values\n",
    "\n",
    "    for i in range(-16, 16):\n",
    "        X[\"promo_{}\".format(i)] = promo_df[t2017 + timedelta(days=i)].values.astype(np.uint8)\n",
    "\n",
    "    X = pd.DataFrame(X)\n",
    "\n",
    "    if is_train:\n",
    "        y = df[\n",
    "            pd.date_range(t2017, periods=16)\n",
    "        ].values\n",
    "        return X, y\n",
    "    if name_prefix is not None:\n",
    "        X.columns = ['%s_%s' % (name_prefix, c) for c in X.columns]\n",
    "    return X"
   ]
  },
  {
   "cell_type": "code",
   "execution_count": 9,
   "metadata": {},
   "outputs": [
    {
     "name": "stdout",
     "output_type": "stream",
     "text": [
      "Preparing dataset...\n"
     ]
    }
   ],
   "source": [
    "print(\"Preparing dataset...\")\n",
    "num_days = 8\n",
    "t2017 = date(2017, 5, 31)\n",
    "X_l, y_l = [], []\n",
    "for i in range(num_days):\n",
    "    delta = timedelta(days=7 * i)\n",
    "    X_tmp, y_tmp = prepare_dataset(df_2017, promo_2017, t2017 + delta)\n",
    "\n",
    "    X_tmp2 = prepare_dataset(df_2017_item, promo_2017_item, t2017 + delta, is_train=False, name_prefix='item')\n",
    "    #X_tmp2.index = df_2017_item.index\n",
    "    #X_tmp2 = X_tmp2.reindex(df_2017.index.get_level_values(1)).reset_index(drop=True)\n",
    "    \n",
    "    #print(X_tmp2.shape[0])\n",
    "    #print(df_2017.index.get_level_values(1))\n",
    "    \n",
    "    X_tmp3 = prepare_dataset(df_2017_store_class, df_2017_promo_store_class, t2017 + delta, is_train=False, name_prefix='store_class')\n",
    "    #X_tmp3.index = df_2017_store_class.index\n",
    "    \n",
    "    #print(X_tmp3.shape[0])\n",
    "    #print(df_2017_store_class.index.get_level_values(1))\n",
    "    #X_tmp3 = X_tmp3.reindex(df_2017_store_class_index).reset_index(drop=True)\n",
    "\n",
    "#    X_tmp = pd.concat([X_tmp.apply(lambda x:str(x)), X_tmp2.apply(lambda x:str(x)), X_tmp3.apply(lambda x:str(x)), items.reset_index(), stores.reset_index()], axis=1)\n",
    "    X_tmp = pd.concat([X_tmp, X_tmp2, X_tmp3, items.reset_index(), stores.reset_index()], axis=1)\n",
    "\n",
    "    X_l.append(X_tmp)\n",
    "    y_l.append(y_tmp)"
   ]
  },
  {
   "cell_type": "code",
   "execution_count": 10,
   "metadata": {},
   "outputs": [],
   "source": [
    "X_train = pd.concat(X_l, axis=0)\n",
    "y_train = np.concatenate(y_l, axis=0)\n",
    "\n",
    "#del X_l, y_l"
   ]
  },
  {
   "cell_type": "code",
   "execution_count": 11,
   "metadata": {},
   "outputs": [],
   "source": [
    "X_val, y_val = prepare_dataset(df_2017, promo_2017, date(2017, 7, 26))"
   ]
  },
  {
   "cell_type": "code",
   "execution_count": 12,
   "metadata": {},
   "outputs": [],
   "source": [
    "X_val2 = prepare_dataset(df_2017_item, promo_2017_item, date(2017, 7, 26), is_train=False, name_prefix='item')\n",
    "#X_val2.index = df_2017_item.index\n",
    "#X_val2 = X_val2.reindex(df_2017.index.get_level_values(1)).reset_index(drop=True)"
   ]
  },
  {
   "cell_type": "code",
   "execution_count": 13,
   "metadata": {},
   "outputs": [],
   "source": [
    "X_val3 = prepare_dataset(df_2017_store_class, df_2017_promo_store_class, date(2017, 7, 26), is_train=False, name_prefix='store_class')\n",
    "#X_val3.index = df_2017_store_class.index\n",
    "#X_val3 = X_val3.reindex(df_2017_store_class_index.index.get_level_values(0)).reset_index(drop=True)"
   ]
  },
  {
   "cell_type": "code",
   "execution_count": 14,
   "metadata": {},
   "outputs": [],
   "source": [
    "#X_val = pd.concat([X_val.apply(lambda x:str(x)), X_val2.apply(lambda x:str(x)), X_val3.apply(lambda x:str(x)), items.reset_index(), stores.reset_index()], axis=1)\n",
    "X_val = pd.concat([X_val, X_val2, X_val3, items.reset_index(), stores.reset_index()], axis=1)"
   ]
  },
  {
   "cell_type": "code",
   "execution_count": 15,
   "metadata": {},
   "outputs": [],
   "source": [
    "X_test = prepare_dataset(df_2017, promo_2017, date(2017, 8, 16), is_train=False)"
   ]
  },
  {
   "cell_type": "code",
   "execution_count": 16,
   "metadata": {},
   "outputs": [],
   "source": [
    "X_test2 = prepare_dataset(df_2017_item, promo_2017_item, date(2017, 8, 16), is_train=False, name_prefix='item')\n",
    "#X_test2.index = df_2017_item.index\n",
    "#X_test2 = X_test2.reindex(df_2017.index.get_level_values(1)).reset_index(drop=True)"
   ]
  },
  {
   "cell_type": "code",
   "execution_count": 17,
   "metadata": {},
   "outputs": [],
   "source": [
    "X_test3 = prepare_dataset(df_2017_store_class, df_2017_promo_store_class, date(2017, 8, 16), is_train=False, name_prefix='store_class')\n",
    "#X_test3.index = df_2017_store_class.index\n",
    "#X_test3 = X_test3.reindex(df_2017_store_class_index).reset_index(drop=True)"
   ]
  },
  {
   "cell_type": "code",
   "execution_count": 18,
   "metadata": {},
   "outputs": [],
   "source": [
    "#X_test = pd.concat([X_test.apply(lambda x:str(x)), X_test2.apply(lambda x:str(x)), X_test3.apply(lambda x:str(x)), items.reset_index(), stores.reset_index()], axis=1)\n",
    "X_test = pd.concat([X_test, X_test2, X_test3, items.reset_index(), stores.reset_index()], axis=1)\n",
    "\n",
    "\n",
    "#del df_2017_item, promo_2017_item, df_2017_store_class, df_2017_promo_store_class, df_2017_store_class_index\n",
    "#gc.collect()"
   ]
  },
  {
   "cell_type": "code",
   "execution_count": 19,
   "metadata": {},
   "outputs": [],
   "source": [
    "scaler = StandardScaler()\n",
    "scaler.fit(pd.concat([X_train, X_val, X_test]))\n",
    "X_train[:] = scaler.transform(X_train)\n",
    "X_val[:] = scaler.transform(X_val)\n",
    "X_test[:] = scaler.transform(X_test)\n",
    "\n",
    "X_train = X_train.to_numpy()\n",
    "X_test = X_test.to_numpy()\n",
    "X_val = X_val.to_numpy()\n",
    "X_train = X_train.reshape((X_train.shape[0], 1, X_train.shape[1]))\n",
    "X_test = X_test.reshape((X_test.shape[0], 1, X_test.shape[1]))\n",
    "X_val = X_val.reshape((X_val.shape[0], 1, X_val.shape[1]))"
   ]
  },
  {
   "cell_type": "code",
   "execution_count": 20,
   "metadata": {},
   "outputs": [],
   "source": [
    "def build_model():\n",
    "    model = Sequential()\n",
    "    model.add(LSTM(512, input_shape=(X_train.shape[1],X_train.shape[2])))\n",
    "    model.add(BatchNormalization())\n",
    "    model.add(Dropout(.2))\n",
    "\n",
    "    model.add(Dense(256))\n",
    "    model.add(PReLU())\n",
    "    model.add(BatchNormalization())\n",
    "    model.add(Dropout(.1))\n",
    "\n",
    "    model.add(Dense(256))\n",
    "    model.add(PReLU())\n",
    "    model.add(BatchNormalization())\n",
    "    model.add(Dropout(.1))\n",
    "\n",
    "    model.add(Dense(128))\n",
    "    model.add(PReLU())\n",
    "    model.add(BatchNormalization())\n",
    "    model.add(Dropout(.05))\n",
    "\n",
    "    model.add(Dense(64))\n",
    "    model.add(PReLU())\n",
    "    model.add(BatchNormalization())\n",
    "    model.add(Dropout(.05))\n",
    "\n",
    "    model.add(Dense(32))\n",
    "    model.add(PReLU())\n",
    "    model.add(BatchNormalization())\n",
    "    model.add(Dropout(.05))\n",
    "\n",
    "    model.add(Dense(16))\n",
    "    model.add(PReLU())\n",
    "    model.add(BatchNormalization())\n",
    "    model.add(Dropout(.05))\n",
    "\n",
    "    model.add(Dense(1))\n",
    "\n",
    "    return model"
   ]
  },
  {
   "cell_type": "code",
   "execution_count": 22,
   "metadata": {
    "scrolled": true
   },
   "outputs": [
    {
     "name": "stdout",
     "output_type": "stream",
     "text": [
      "==================================================\n",
      "Step 1\n",
      "==================================================\n"
     ]
    },
    {
     "name": "stderr",
     "output_type": "stream",
     "text": [
      "C:\\ProgramData\\Anaconda3\\lib\\site-packages\\keras\\callbacks\\callbacks.py:998: UserWarning: `epsilon` argument is deprecated and will be removed, use `min_delta` instead.\n",
      "  warnings.warn('`epsilon` argument is deprecated and '\n"
     ]
    },
    {
     "name": "stdout",
     "output_type": "stream",
     "text": [
      "Train on 1340120 samples, validate on 167515 samples\n",
      "Epoch 1/2000\n",
      " - 25s - loss: 1.1835 - mse: 1.1002 - val_loss: 1.0624 - val_mse: 1.0624\n",
      "Epoch 2/2000\n",
      " - 23s - loss: 1.1835 - mse: 1.1002 - val_loss: 1.0626 - val_mse: 1.0626\n",
      "Epoch 3/2000\n",
      " - 23s - loss: 1.1835 - mse: 1.1002 - val_loss: 1.0633 - val_mse: 1.0633\n",
      "Epoch 4/2000\n",
      " - 23s - loss: 1.1835 - mse: 1.1003 - val_loss: 1.0625 - val_mse: 1.0625\n",
      "Epoch 5/2000\n",
      " - 23s - loss: 1.1835 - mse: 1.1002 - val_loss: 1.0631 - val_mse: 1.0631\n",
      "Epoch 6/2000\n",
      " - 23s - loss: 1.1835 - mse: 1.1002 - val_loss: 1.0629 - val_mse: 1.0629\n",
      "Epoch 7/2000\n",
      " - 23s - loss: 1.1835 - mse: 1.1002 - val_loss: 1.0627 - val_mse: 1.0627\n",
      "Epoch 8/2000\n",
      " - 23s - loss: 1.1835 - mse: 1.1002 - val_loss: 1.0621 - val_mse: 1.0621\n",
      "Epoch 9/2000\n",
      " - 23s - loss: 1.1835 - mse: 1.1002 - val_loss: 1.0619 - val_mse: 1.0619\n",
      "Epoch 10/2000\n",
      " - 23s - loss: 1.1835 - mse: 1.1002 - val_loss: 1.0620 - val_mse: 1.0620\n",
      "Epoch 11/2000\n",
      " - 23s - loss: 1.1835 - mse: 1.1002 - val_loss: 1.0627 - val_mse: 1.0627\n",
      "Epoch 12/2000\n",
      " - 23s - loss: 1.1835 - mse: 1.1002 - val_loss: 1.0631 - val_mse: 1.0631\n",
      "Epoch 13/2000\n",
      " - 23s - loss: 1.1835 - mse: 1.1002 - val_loss: 1.0623 - val_mse: 1.0623\n",
      "Epoch 14/2000\n",
      " - 23s - loss: 1.1835 - mse: 1.1002 - val_loss: 1.0625 - val_mse: 1.0625\n",
      "Epoch 15/2000\n",
      " - 23s - loss: 1.1835 - mse: 1.1002 - val_loss: 1.0623 - val_mse: 1.0623\n",
      "Epoch 16/2000\n",
      " - 24s - loss: 1.1835 - mse: 1.1002 - val_loss: 1.0624 - val_mse: 1.0624\n",
      "\n",
      "Epoch 00016: ReduceLROnPlateau reducing learning rate to 0.00010000000474974513.\n",
      "Epoch 17/2000\n",
      " - 23s - loss: 1.1835 - mse: 1.1002 - val_loss: 1.0623 - val_mse: 1.0623\n",
      "Epoch 18/2000\n",
      " - 24s - loss: 1.1835 - mse: 1.1002 - val_loss: 1.0625 - val_mse: 1.0625\n",
      "Epoch 19/2000\n",
      " - 23s - loss: 1.1835 - mse: 1.1002 - val_loss: 1.0624 - val_mse: 1.0624\n",
      "==================================================\n",
      "Step 2\n",
      "==================================================\n"
     ]
    },
    {
     "name": "stderr",
     "output_type": "stream",
     "text": [
      "C:\\ProgramData\\Anaconda3\\lib\\site-packages\\keras\\callbacks\\callbacks.py:998: UserWarning: `epsilon` argument is deprecated and will be removed, use `min_delta` instead.\n",
      "  warnings.warn('`epsilon` argument is deprecated and '\n"
     ]
    },
    {
     "name": "stdout",
     "output_type": "stream",
     "text": [
      "Train on 1340120 samples, validate on 167515 samples\n",
      "Epoch 1/2000\n",
      " - 24s - loss: 1.0672 - mse: 0.9976 - val_loss: 0.9811 - val_mse: 0.9811\n",
      "Epoch 2/2000\n",
      " - 23s - loss: 1.0672 - mse: 0.9977 - val_loss: 0.9810 - val_mse: 0.9810\n",
      "Epoch 3/2000\n",
      " - 23s - loss: 1.0672 - mse: 0.9977 - val_loss: 0.9805 - val_mse: 0.9805\n",
      "Epoch 4/2000\n",
      " - 24s - loss: 1.0672 - mse: 0.9976 - val_loss: 0.9807 - val_mse: 0.9807\n",
      "Epoch 5/2000\n",
      " - 23s - loss: 1.0672 - mse: 0.9976 - val_loss: 0.9812 - val_mse: 0.9812\n",
      "Epoch 6/2000\n",
      " - 23s - loss: 1.0672 - mse: 0.9977 - val_loss: 0.9806 - val_mse: 0.9806\n",
      "Epoch 7/2000\n",
      " - 23s - loss: 1.0672 - mse: 0.9977 - val_loss: 0.9802 - val_mse: 0.9802\n",
      "Epoch 8/2000\n",
      " - 23s - loss: 1.0672 - mse: 0.9976 - val_loss: 0.9804 - val_mse: 0.9804\n",
      "Epoch 9/2000\n",
      " - 23s - loss: 1.0672 - mse: 0.9976 - val_loss: 0.9805 - val_mse: 0.9805\n",
      "Epoch 10/2000\n",
      " - 23s - loss: 1.0672 - mse: 0.9977 - val_loss: 0.9804 - val_mse: 0.9804\n",
      "Epoch 11/2000\n",
      " - 23s - loss: 1.0672 - mse: 0.9976 - val_loss: 0.9808 - val_mse: 0.9808\n",
      "Epoch 12/2000\n",
      " - 23s - loss: 1.0672 - mse: 0.9977 - val_loss: 0.9805 - val_mse: 0.9805\n",
      "Epoch 13/2000\n",
      " - 23s - loss: 1.0672 - mse: 0.9977 - val_loss: 0.9802 - val_mse: 0.9802\n",
      "Epoch 14/2000\n",
      " - 23s - loss: 1.0672 - mse: 0.9977 - val_loss: 0.9802 - val_mse: 0.9802\n",
      "\n",
      "Epoch 00014: ReduceLROnPlateau reducing learning rate to 0.00010000000474974513.\n",
      "Epoch 15/2000\n",
      " - 23s - loss: 1.0672 - mse: 0.9976 - val_loss: 0.9805 - val_mse: 0.9805\n",
      "Epoch 16/2000\n",
      " - 23s - loss: 1.0672 - mse: 0.9976 - val_loss: 0.9807 - val_mse: 0.9807\n",
      "Epoch 17/2000\n",
      " - 23s - loss: 1.0672 - mse: 0.9976 - val_loss: 0.9806 - val_mse: 0.9806\n",
      "==================================================\n",
      "Step 3\n",
      "==================================================\n"
     ]
    },
    {
     "name": "stderr",
     "output_type": "stream",
     "text": [
      "C:\\ProgramData\\Anaconda3\\lib\\site-packages\\keras\\callbacks\\callbacks.py:998: UserWarning: `epsilon` argument is deprecated and will be removed, use `min_delta` instead.\n",
      "  warnings.warn('`epsilon` argument is deprecated and '\n"
     ]
    },
    {
     "name": "stdout",
     "output_type": "stream",
     "text": [
      "Train on 1340120 samples, validate on 167515 samples\n",
      "Epoch 1/2000\n",
      " - 24s - loss: 1.1932 - mse: 1.1132 - val_loss: 1.1210 - val_mse: 1.1210\n",
      "Epoch 2/2000\n",
      " - 23s - loss: 1.1932 - mse: 1.1132 - val_loss: 1.1209 - val_mse: 1.1209\n",
      "Epoch 3/2000\n",
      " - 23s - loss: 1.1932 - mse: 1.1131 - val_loss: 1.1208 - val_mse: 1.1208\n",
      "Epoch 4/2000\n",
      " - 23s - loss: 1.1932 - mse: 1.1132 - val_loss: 1.1208 - val_mse: 1.1208\n",
      "Epoch 5/2000\n",
      " - 23s - loss: 1.1932 - mse: 1.1132 - val_loss: 1.1209 - val_mse: 1.1209\n",
      "Epoch 6/2000\n",
      " - 23s - loss: 1.1932 - mse: 1.1131 - val_loss: 1.1208 - val_mse: 1.1208\n",
      "Epoch 7/2000\n",
      " - 23s - loss: 1.1932 - mse: 1.1132 - val_loss: 1.1209 - val_mse: 1.1209\n",
      "Epoch 8/2000\n",
      " - 23s - loss: 1.1932 - mse: 1.1132 - val_loss: 1.1210 - val_mse: 1.1210\n",
      "Epoch 9/2000\n",
      " - 23s - loss: 1.1932 - mse: 1.1132 - val_loss: 1.1209 - val_mse: 1.1209\n",
      "\n",
      "Epoch 00009: ReduceLROnPlateau reducing learning rate to 0.00010000000474974513.\n",
      "Epoch 10/2000\n",
      " - 23s - loss: 1.1932 - mse: 1.1131 - val_loss: 1.1209 - val_mse: 1.1209\n",
      "Epoch 11/2000\n",
      " - 23s - loss: 1.1932 - mse: 1.1132 - val_loss: 1.1210 - val_mse: 1.1210\n",
      "Epoch 12/2000\n",
      " - 23s - loss: 1.1932 - mse: 1.1131 - val_loss: 1.1209 - val_mse: 1.1209\n",
      "Epoch 13/2000\n",
      " - 23s - loss: 1.1932 - mse: 1.1131 - val_loss: 1.1210 - val_mse: 1.1210\n",
      "==================================================\n",
      "Step 4\n",
      "==================================================\n"
     ]
    },
    {
     "name": "stderr",
     "output_type": "stream",
     "text": [
      "C:\\ProgramData\\Anaconda3\\lib\\site-packages\\keras\\callbacks\\callbacks.py:998: UserWarning: `epsilon` argument is deprecated and will be removed, use `min_delta` instead.\n",
      "  warnings.warn('`epsilon` argument is deprecated and '\n"
     ]
    },
    {
     "name": "stdout",
     "output_type": "stream",
     "text": [
      "Train on 1340120 samples, validate on 167515 samples\n",
      "Epoch 1/2000\n",
      " - 24s - loss: 1.3353 - mse: 1.2531 - val_loss: 1.2333 - val_mse: 1.2333\n",
      "Epoch 2/2000\n",
      " - 23s - loss: 1.3352 - mse: 1.2531 - val_loss: 1.2336 - val_mse: 1.2336\n",
      "Epoch 3/2000\n",
      " - 23s - loss: 1.3352 - mse: 1.2531 - val_loss: 1.2335 - val_mse: 1.2335\n",
      "Epoch 4/2000\n",
      " - 23s - loss: 1.3352 - mse: 1.2531 - val_loss: 1.2339 - val_mse: 1.2339\n",
      "Epoch 5/2000\n",
      " - 23s - loss: 1.3352 - mse: 1.2531 - val_loss: 1.2334 - val_mse: 1.2334\n",
      "Epoch 6/2000\n",
      " - 23s - loss: 1.3352 - mse: 1.2531 - val_loss: 1.2335 - val_mse: 1.2335\n",
      "Epoch 7/2000\n",
      " - 24s - loss: 1.3352 - mse: 1.2530 - val_loss: 1.2335 - val_mse: 1.2335\n",
      "Epoch 8/2000\n",
      " - 24s - loss: 1.3352 - mse: 1.2530 - val_loss: 1.2338 - val_mse: 1.2338\n",
      "\n",
      "Epoch 00008: ReduceLROnPlateau reducing learning rate to 0.00010000000474974513.\n",
      "Epoch 9/2000\n",
      " - 23s - loss: 1.3352 - mse: 1.2532 - val_loss: 1.2335 - val_mse: 1.2335\n",
      "Epoch 10/2000\n",
      " - 23s - loss: 1.3352 - mse: 1.2530 - val_loss: 1.2334 - val_mse: 1.2334\n",
      "Epoch 11/2000\n",
      " - 23s - loss: 1.3352 - mse: 1.2531 - val_loss: 1.2335 - val_mse: 1.2335\n",
      "==================================================\n",
      "Step 5\n",
      "==================================================\n"
     ]
    },
    {
     "name": "stderr",
     "output_type": "stream",
     "text": [
      "C:\\ProgramData\\Anaconda3\\lib\\site-packages\\keras\\callbacks\\callbacks.py:998: UserWarning: `epsilon` argument is deprecated and will be removed, use `min_delta` instead.\n",
      "  warnings.warn('`epsilon` argument is deprecated and '\n"
     ]
    },
    {
     "name": "stdout",
     "output_type": "stream",
     "text": [
      "Train on 1340120 samples, validate on 167515 samples\n",
      "Epoch 1/2000\n",
      " - 24s - loss: 1.4145 - mse: 1.3266 - val_loss: 1.3000 - val_mse: 1.3000\n",
      "Epoch 2/2000\n",
      " - 24s - loss: 1.4145 - mse: 1.3267 - val_loss: 1.2995 - val_mse: 1.2995\n",
      "Epoch 3/2000\n",
      " - 23s - loss: 1.4145 - mse: 1.3266 - val_loss: 1.2996 - val_mse: 1.2996\n",
      "Epoch 4/2000\n",
      " - 23s - loss: 1.4145 - mse: 1.3266 - val_loss: 1.2997 - val_mse: 1.2997\n",
      "Epoch 5/2000\n",
      " - 23s - loss: 1.4145 - mse: 1.3266 - val_loss: 1.3003 - val_mse: 1.3003\n",
      "Epoch 6/2000\n",
      " - 23s - loss: 1.4145 - mse: 1.3266 - val_loss: 1.3005 - val_mse: 1.3005\n",
      "Epoch 7/2000\n",
      " - 23s - loss: 1.4145 - mse: 1.3267 - val_loss: 1.3003 - val_mse: 1.3003\n",
      "Epoch 8/2000\n",
      " - 23s - loss: 1.4145 - mse: 1.3266 - val_loss: 1.3001 - val_mse: 1.3001\n",
      "Epoch 9/2000\n",
      " - 23s - loss: 1.4145 - mse: 1.3266 - val_loss: 1.3003 - val_mse: 1.3003\n",
      "\n",
      "Epoch 00009: ReduceLROnPlateau reducing learning rate to 0.00010000000474974513.\n",
      "Epoch 10/2000\n",
      " - 23s - loss: 1.4145 - mse: 1.3267 - val_loss: 1.3000 - val_mse: 1.3000\n",
      "Epoch 11/2000\n",
      " - 23s - loss: 1.4145 - mse: 1.3266 - val_loss: 1.2999 - val_mse: 1.2999\n",
      "Epoch 12/2000\n",
      " - 23s - loss: 1.4145 - mse: 1.3266 - val_loss: 1.3001 - val_mse: 1.3001\n",
      "==================================================\n",
      "Step 6\n",
      "==================================================\n"
     ]
    },
    {
     "name": "stderr",
     "output_type": "stream",
     "text": [
      "C:\\ProgramData\\Anaconda3\\lib\\site-packages\\keras\\callbacks\\callbacks.py:998: UserWarning: `epsilon` argument is deprecated and will be removed, use `min_delta` instead.\n",
      "  warnings.warn('`epsilon` argument is deprecated and '\n"
     ]
    },
    {
     "name": "stdout",
     "output_type": "stream",
     "text": [
      "Train on 1340120 samples, validate on 167515 samples\n",
      "Epoch 1/2000\n",
      " - 24s - loss: 1.1974 - mse: 1.1204 - val_loss: 1.1590 - val_mse: 1.1590\n",
      "Epoch 2/2000\n",
      " - 23s - loss: 1.1973 - mse: 1.1204 - val_loss: 1.1589 - val_mse: 1.1589\n",
      "Epoch 3/2000\n",
      " - 23s - loss: 1.1973 - mse: 1.1204 - val_loss: 1.1591 - val_mse: 1.1591\n",
      "Epoch 4/2000\n",
      " - 23s - loss: 1.1973 - mse: 1.1204 - val_loss: 1.1590 - val_mse: 1.1590\n",
      "Epoch 5/2000\n",
      " - 23s - loss: 1.1973 - mse: 1.1204 - val_loss: 1.1590 - val_mse: 1.1590\n",
      "Epoch 6/2000\n",
      " - 23s - loss: 1.1973 - mse: 1.1204 - val_loss: 1.1590 - val_mse: 1.1590\n",
      "Epoch 7/2000\n",
      " - 23s - loss: 1.1973 - mse: 1.1204 - val_loss: 1.1591 - val_mse: 1.1591\n",
      "Epoch 8/2000\n",
      " - 23s - loss: 1.1973 - mse: 1.1204 - val_loss: 1.1590 - val_mse: 1.1590\n",
      "\n",
      "Epoch 00008: ReduceLROnPlateau reducing learning rate to 0.00010000000474974513.\n",
      "Epoch 9/2000\n",
      " - 23s - loss: 1.1973 - mse: 1.1204 - val_loss: 1.1590 - val_mse: 1.1590\n",
      "Epoch 10/2000\n",
      " - 23s - loss: 1.1973 - mse: 1.1204 - val_loss: 1.1590 - val_mse: 1.1590\n",
      "Epoch 11/2000\n",
      " - 23s - loss: 1.1973 - mse: 1.1204 - val_loss: 1.1590 - val_mse: 1.1590\n",
      "Epoch 12/2000\n",
      " - 23s - loss: 1.1973 - mse: 1.1204 - val_loss: 1.1590 - val_mse: 1.1590\n",
      "==================================================\n",
      "Step 7\n",
      "==================================================\n"
     ]
    },
    {
     "name": "stderr",
     "output_type": "stream",
     "text": [
      "C:\\ProgramData\\Anaconda3\\lib\\site-packages\\keras\\callbacks\\callbacks.py:998: UserWarning: `epsilon` argument is deprecated and will be removed, use `min_delta` instead.\n",
      "  warnings.warn('`epsilon` argument is deprecated and '\n"
     ]
    },
    {
     "name": "stdout",
     "output_type": "stream",
     "text": [
      "Train on 1340120 samples, validate on 167515 samples\n",
      "Epoch 1/2000\n",
      " - 24s - loss: 1.1455 - mse: 1.0690 - val_loss: 1.2428 - val_mse: 1.2428\n",
      "Epoch 2/2000\n",
      " - 23s - loss: 1.1454 - mse: 1.0690 - val_loss: 1.2410 - val_mse: 1.2410\n",
      "Epoch 3/2000\n",
      " - 23s - loss: 1.1454 - mse: 1.0690 - val_loss: 1.2415 - val_mse: 1.2415\n",
      "Epoch 4/2000\n",
      " - 23s - loss: 1.1454 - mse: 1.0690 - val_loss: 1.2412 - val_mse: 1.2412\n",
      "Epoch 5/2000\n",
      " - 23s - loss: 1.1454 - mse: 1.0690 - val_loss: 1.2410 - val_mse: 1.2410\n",
      "Epoch 6/2000\n",
      " - 23s - loss: 1.1454 - mse: 1.0690 - val_loss: 1.2418 - val_mse: 1.2418\n",
      "Epoch 7/2000\n",
      " - 23s - loss: 1.1455 - mse: 1.0690 - val_loss: 1.2432 - val_mse: 1.2432\n",
      "Epoch 8/2000\n",
      " - 24s - loss: 1.1454 - mse: 1.0690 - val_loss: 1.2403 - val_mse: 1.2403\n",
      "Epoch 9/2000\n",
      " - 24s - loss: 1.1454 - mse: 1.0690 - val_loss: 1.2413 - val_mse: 1.2413\n",
      "Epoch 10/2000\n",
      " - 23s - loss: 1.1454 - mse: 1.0690 - val_loss: 1.2420 - val_mse: 1.2420\n",
      "Epoch 11/2000\n",
      " - 23s - loss: 1.1454 - mse: 1.0690 - val_loss: 1.2407 - val_mse: 1.2407\n",
      "Epoch 12/2000\n",
      " - 23s - loss: 1.1454 - mse: 1.0690 - val_loss: 1.2412 - val_mse: 1.2412\n",
      "Epoch 13/2000\n",
      " - 23s - loss: 1.1454 - mse: 1.0690 - val_loss: 1.2411 - val_mse: 1.2411\n",
      "Epoch 14/2000\n",
      " - 23s - loss: 1.1454 - mse: 1.0690 - val_loss: 1.2416 - val_mse: 1.2416\n",
      "Epoch 15/2000\n",
      " - 23s - loss: 1.1454 - mse: 1.0690 - val_loss: 1.2410 - val_mse: 1.2410\n",
      "\n",
      "Epoch 00015: ReduceLROnPlateau reducing learning rate to 0.00010000000474974513.\n",
      "Epoch 16/2000\n",
      " - 23s - loss: 1.1454 - mse: 1.0690 - val_loss: 1.2414 - val_mse: 1.2414\n",
      "Epoch 17/2000\n",
      " - 23s - loss: 1.1454 - mse: 1.0690 - val_loss: 1.2414 - val_mse: 1.2414\n",
      "Epoch 18/2000\n",
      " - 23s - loss: 1.1454 - mse: 1.0690 - val_loss: 1.2414 - val_mse: 1.2414\n",
      "==================================================\n",
      "Step 8\n",
      "==================================================\n"
     ]
    },
    {
     "name": "stderr",
     "output_type": "stream",
     "text": [
      "C:\\ProgramData\\Anaconda3\\lib\\site-packages\\keras\\callbacks\\callbacks.py:998: UserWarning: `epsilon` argument is deprecated and will be removed, use `min_delta` instead.\n",
      "  warnings.warn('`epsilon` argument is deprecated and '\n"
     ]
    },
    {
     "name": "stdout",
     "output_type": "stream",
     "text": [
      "Train on 1340120 samples, validate on 167515 samples\n",
      "Epoch 1/2000\n",
      " - 24s - loss: 1.1741 - mse: 1.0914 - val_loss: 1.2209 - val_mse: 1.2209\n",
      "Epoch 2/2000\n",
      " - 23s - loss: 1.1741 - mse: 1.0913 - val_loss: 1.2187 - val_mse: 1.2187\n",
      "Epoch 3/2000\n",
      " - 23s - loss: 1.1741 - mse: 1.0914 - val_loss: 1.2197 - val_mse: 1.2197\n",
      "Epoch 4/2000\n",
      " - 23s - loss: 1.1741 - mse: 1.0913 - val_loss: 1.2192 - val_mse: 1.2192\n",
      "Epoch 5/2000\n",
      " - 23s - loss: 1.1741 - mse: 1.0913 - val_loss: 1.2196 - val_mse: 1.2196\n",
      "Epoch 6/2000\n",
      " - 23s - loss: 1.1741 - mse: 1.0913 - val_loss: 1.2197 - val_mse: 1.2197\n",
      "Epoch 7/2000\n",
      " - 23s - loss: 1.1741 - mse: 1.0913 - val_loss: 1.2197 - val_mse: 1.2197\n",
      "Epoch 8/2000\n",
      " - 23s - loss: 1.1741 - mse: 1.0913 - val_loss: 1.2207 - val_mse: 1.2207\n",
      "Epoch 9/2000\n",
      " - 23s - loss: 1.1741 - mse: 1.0913 - val_loss: 1.2188 - val_mse: 1.2188\n",
      "\n",
      "Epoch 00009: ReduceLROnPlateau reducing learning rate to 0.00010000000474974513.\n",
      "Epoch 10/2000\n",
      " - 23s - loss: 1.1741 - mse: 1.0915 - val_loss: 1.2196 - val_mse: 1.2196\n",
      "Epoch 11/2000\n",
      " - 23s - loss: 1.1741 - mse: 1.0913 - val_loss: 1.2200 - val_mse: 1.2200\n",
      "Epoch 12/2000\n",
      " - 23s - loss: 1.1741 - mse: 1.0913 - val_loss: 1.2197 - val_mse: 1.2197\n",
      "==================================================\n",
      "Step 9\n",
      "==================================================\n"
     ]
    },
    {
     "name": "stderr",
     "output_type": "stream",
     "text": [
      "C:\\ProgramData\\Anaconda3\\lib\\site-packages\\keras\\callbacks\\callbacks.py:998: UserWarning: `epsilon` argument is deprecated and will be removed, use `min_delta` instead.\n",
      "  warnings.warn('`epsilon` argument is deprecated and '\n"
     ]
    },
    {
     "name": "stdout",
     "output_type": "stream",
     "text": [
      "Train on 1340120 samples, validate on 167515 samples\n",
      "Epoch 1/2000\n",
      " - 24s - loss: 1.0533 - mse: 0.9845 - val_loss: 1.0507 - val_mse: 1.0507\n",
      "Epoch 2/2000\n",
      " - 23s - loss: 1.0533 - mse: 0.9845 - val_loss: 1.0505 - val_mse: 1.0505\n",
      "Epoch 3/2000\n",
      " - 23s - loss: 1.0533 - mse: 0.9845 - val_loss: 1.0509 - val_mse: 1.0509\n",
      "Epoch 4/2000\n",
      " - 23s - loss: 1.0533 - mse: 0.9845 - val_loss: 1.0507 - val_mse: 1.0507\n",
      "Epoch 5/2000\n",
      " - 23s - loss: 1.0533 - mse: 0.9845 - val_loss: 1.0508 - val_mse: 1.0508\n",
      "Epoch 6/2000\n",
      " - 23s - loss: 1.0533 - mse: 0.9845 - val_loss: 1.0511 - val_mse: 1.0511\n",
      "Epoch 7/2000\n",
      " - 23s - loss: 1.0533 - mse: 0.9845 - val_loss: 1.0507 - val_mse: 1.0507\n",
      "Epoch 8/2000\n",
      " - 23s - loss: 1.0533 - mse: 0.9845 - val_loss: 1.0509 - val_mse: 1.0509\n",
      "Epoch 9/2000\n",
      " - 23s - loss: 1.0533 - mse: 0.9845 - val_loss: 1.0510 - val_mse: 1.0510\n",
      "\n",
      "Epoch 00009: ReduceLROnPlateau reducing learning rate to 0.00010000000474974513.\n",
      "Epoch 10/2000\n",
      " - 23s - loss: 1.0533 - mse: 0.9845 - val_loss: 1.0508 - val_mse: 1.0508\n",
      "Epoch 11/2000\n",
      " - 23s - loss: 1.0533 - mse: 0.9845 - val_loss: 1.0509 - val_mse: 1.0509\n",
      "Epoch 12/2000\n",
      " - 23s - loss: 1.0533 - mse: 0.9845 - val_loss: 1.0508 - val_mse: 1.0508\n",
      "==================================================\n",
      "Step 10\n",
      "==================================================\n"
     ]
    },
    {
     "name": "stderr",
     "output_type": "stream",
     "text": [
      "C:\\ProgramData\\Anaconda3\\lib\\site-packages\\keras\\callbacks\\callbacks.py:998: UserWarning: `epsilon` argument is deprecated and will be removed, use `min_delta` instead.\n",
      "  warnings.warn('`epsilon` argument is deprecated and '\n"
     ]
    },
    {
     "name": "stdout",
     "output_type": "stream",
     "text": [
      "Train on 1340120 samples, validate on 167515 samples\n",
      "Epoch 1/2000\n",
      " - 24s - loss: 1.1826 - mse: 1.1032 - val_loss: 1.1282 - val_mse: 1.1282\n",
      "Epoch 2/2000\n",
      " - 23s - loss: 1.1825 - mse: 1.1031 - val_loss: 1.1282 - val_mse: 1.1282\n",
      "Epoch 3/2000\n",
      " - 23s - loss: 1.1825 - mse: 1.1032 - val_loss: 1.1282 - val_mse: 1.1282\n",
      "Epoch 4/2000\n",
      " - 23s - loss: 1.1825 - mse: 1.1031 - val_loss: 1.1283 - val_mse: 1.1283\n",
      "Epoch 5/2000\n",
      " - 23s - loss: 1.1825 - mse: 1.1032 - val_loss: 1.1283 - val_mse: 1.1283\n",
      "Epoch 6/2000\n",
      " - 23s - loss: 1.1825 - mse: 1.1031 - val_loss: 1.1282 - val_mse: 1.1282\n",
      "Epoch 7/2000\n",
      " - 23s - loss: 1.1825 - mse: 1.1031 - val_loss: 1.1281 - val_mse: 1.1281\n",
      "Epoch 8/2000\n",
      " - 23s - loss: 1.1825 - mse: 1.1032 - val_loss: 1.1283 - val_mse: 1.1283\n",
      "Epoch 9/2000\n",
      " - 23s - loss: 1.1825 - mse: 1.1032 - val_loss: 1.1282 - val_mse: 1.1282\n",
      "Epoch 10/2000\n",
      " - 23s - loss: 1.1825 - mse: 1.1032 - val_loss: 1.1282 - val_mse: 1.1282\n",
      "Epoch 11/2000\n",
      " - 23s - loss: 1.1825 - mse: 1.1031 - val_loss: 1.1282 - val_mse: 1.1282\n",
      "Epoch 12/2000\n",
      " - 23s - loss: 1.1825 - mse: 1.1032 - val_loss: 1.1282 - val_mse: 1.1282\n",
      "Epoch 13/2000\n",
      " - 23s - loss: 1.1825 - mse: 1.1031 - val_loss: 1.1282 - val_mse: 1.1282\n",
      "Epoch 14/2000\n",
      " - 23s - loss: 1.1825 - mse: 1.1031 - val_loss: 1.1282 - val_mse: 1.1282\n",
      "\n",
      "Epoch 00014: ReduceLROnPlateau reducing learning rate to 0.00010000000474974513.\n",
      "Epoch 15/2000\n",
      " - 23s - loss: 1.1825 - mse: 1.1031 - val_loss: 1.1282 - val_mse: 1.1282\n",
      "Epoch 16/2000\n",
      " - 23s - loss: 1.1825 - mse: 1.1032 - val_loss: 1.1282 - val_mse: 1.1282\n",
      "Epoch 17/2000\n",
      " - 23s - loss: 1.1825 - mse: 1.1031 - val_loss: 1.1282 - val_mse: 1.1282\n",
      "==================================================\n",
      "Step 11\n",
      "==================================================\n"
     ]
    },
    {
     "name": "stderr",
     "output_type": "stream",
     "text": [
      "C:\\ProgramData\\Anaconda3\\lib\\site-packages\\keras\\callbacks\\callbacks.py:998: UserWarning: `epsilon` argument is deprecated and will be removed, use `min_delta` instead.\n",
      "  warnings.warn('`epsilon` argument is deprecated and '\n"
     ]
    },
    {
     "name": "stdout",
     "output_type": "stream",
     "text": [
      "Train on 1340120 samples, validate on 167515 samples\n",
      "Epoch 1/2000\n",
      " - 24s - loss: 1.3216 - mse: 1.2402 - val_loss: 1.2116 - val_mse: 1.2116\n",
      "Epoch 2/2000\n",
      " - 23s - loss: 1.3215 - mse: 1.2402 - val_loss: 1.2125 - val_mse: 1.2125\n",
      "Epoch 3/2000\n",
      " - 23s - loss: 1.3215 - mse: 1.2402 - val_loss: 1.2123 - val_mse: 1.2123\n",
      "Epoch 4/2000\n",
      " - 23s - loss: 1.3215 - mse: 1.2402 - val_loss: 1.2126 - val_mse: 1.2126\n",
      "Epoch 5/2000\n",
      " - 23s - loss: 1.3215 - mse: 1.2402 - val_loss: 1.2122 - val_mse: 1.2122\n",
      "Epoch 6/2000\n",
      " - 23s - loss: 1.3215 - mse: 1.2402 - val_loss: 1.2124 - val_mse: 1.2124\n",
      "Epoch 7/2000\n",
      " - 23s - loss: 1.3215 - mse: 1.2402 - val_loss: 1.2123 - val_mse: 1.2123\n",
      "Epoch 8/2000\n",
      " - 23s - loss: 1.3215 - mse: 1.2401 - val_loss: 1.2124 - val_mse: 1.2124\n",
      "\n",
      "Epoch 00008: ReduceLROnPlateau reducing learning rate to 0.00010000000474974513.\n",
      "Epoch 9/2000\n",
      " - 23s - loss: 1.3215 - mse: 1.2402 - val_loss: 1.2123 - val_mse: 1.2123\n",
      "Epoch 10/2000\n",
      " - 23s - loss: 1.3215 - mse: 1.2402 - val_loss: 1.2123 - val_mse: 1.2123\n",
      "Epoch 11/2000\n",
      " - 23s - loss: 1.3215 - mse: 1.2402 - val_loss: 1.2123 - val_mse: 1.2123\n",
      "==================================================\n",
      "Step 12\n",
      "==================================================\n"
     ]
    },
    {
     "name": "stderr",
     "output_type": "stream",
     "text": [
      "C:\\ProgramData\\Anaconda3\\lib\\site-packages\\keras\\callbacks\\callbacks.py:998: UserWarning: `epsilon` argument is deprecated and will be removed, use `min_delta` instead.\n",
      "  warnings.warn('`epsilon` argument is deprecated and '\n"
     ]
    },
    {
     "name": "stdout",
     "output_type": "stream",
     "text": [
      "Train on 1340120 samples, validate on 167515 samples\n",
      "Epoch 1/2000\n",
      " - 24s - loss: 1.3924 - mse: 1.3059 - val_loss: 1.2822 - val_mse: 1.2822\n",
      "Epoch 2/2000\n",
      " - 23s - loss: 1.3923 - mse: 1.3058 - val_loss: 1.2832 - val_mse: 1.2832\n",
      "Epoch 3/2000\n",
      " - 23s - loss: 1.3923 - mse: 1.3059 - val_loss: 1.2825 - val_mse: 1.2825\n",
      "Epoch 4/2000\n",
      " - 23s - loss: 1.3923 - mse: 1.3058 - val_loss: 1.2829 - val_mse: 1.2829\n",
      "Epoch 5/2000\n",
      " - 23s - loss: 1.3924 - mse: 1.3059 - val_loss: 1.2832 - val_mse: 1.2832\n",
      "Epoch 6/2000\n",
      " - 23s - loss: 1.3924 - mse: 1.3059 - val_loss: 1.2828 - val_mse: 1.2828\n",
      "Epoch 7/2000\n",
      " - 23s - loss: 1.3923 - mse: 1.3059 - val_loss: 1.2822 - val_mse: 1.2822\n",
      "Epoch 8/2000\n",
      " - 23s - loss: 1.3923 - mse: 1.3058 - val_loss: 1.2828 - val_mse: 1.2828\n",
      "\n",
      "Epoch 00008: ReduceLROnPlateau reducing learning rate to 0.00010000000474974513.\n",
      "Epoch 9/2000\n",
      " - 23s - loss: 1.3923 - mse: 1.3059 - val_loss: 1.2826 - val_mse: 1.2826\n",
      "Epoch 10/2000\n",
      " - 23s - loss: 1.3923 - mse: 1.3058 - val_loss: 1.2825 - val_mse: 1.2825\n",
      "Epoch 11/2000\n",
      " - 23s - loss: 1.3923 - mse: 1.3058 - val_loss: 1.2825 - val_mse: 1.2825\n",
      "Epoch 12/2000\n",
      " - 23s - loss: 1.3923 - mse: 1.3059 - val_loss: 1.2826 - val_mse: 1.2826\n",
      "Epoch 13/2000\n",
      " - 23s - loss: 1.3923 - mse: 1.3058 - val_loss: 1.2825 - val_mse: 1.2825\n",
      "Epoch 14/2000\n",
      " - 23s - loss: 1.3923 - mse: 1.3058 - val_loss: 1.2825 - val_mse: 1.2825\n",
      "Epoch 15/2000\n",
      " - 23s - loss: 1.3923 - mse: 1.3058 - val_loss: 1.2825 - val_mse: 1.2825\n",
      "\n",
      "Epoch 00015: ReduceLROnPlateau reducing learning rate to 1.0000000474974514e-05.\n",
      "Epoch 16/2000\n",
      " - 23s - loss: 1.3923 - mse: 1.3058 - val_loss: 1.2825 - val_mse: 1.2825\n",
      "Epoch 17/2000\n",
      " - 23s - loss: 1.3923 - mse: 1.3058 - val_loss: 1.2825 - val_mse: 1.2825\n",
      "==================================================\n",
      "Step 13\n",
      "==================================================\n"
     ]
    },
    {
     "name": "stderr",
     "output_type": "stream",
     "text": [
      "C:\\ProgramData\\Anaconda3\\lib\\site-packages\\keras\\callbacks\\callbacks.py:998: UserWarning: `epsilon` argument is deprecated and will be removed, use `min_delta` instead.\n",
      "  warnings.warn('`epsilon` argument is deprecated and '\n"
     ]
    },
    {
     "name": "stdout",
     "output_type": "stream",
     "text": [
      "Train on 1340120 samples, validate on 167515 samples\n",
      "Epoch 1/2000\n",
      " - 24s - loss: 1.1947 - mse: 1.1181 - val_loss: 1.1081 - val_mse: 1.1081\n",
      "Epoch 2/2000\n",
      " - 23s - loss: 1.1947 - mse: 1.1181 - val_loss: 1.1080 - val_mse: 1.1080\n",
      "Epoch 3/2000\n",
      " - 23s - loss: 1.1947 - mse: 1.1181 - val_loss: 1.1080 - val_mse: 1.1080\n",
      "Epoch 4/2000\n",
      " - 23s - loss: 1.1947 - mse: 1.1181 - val_loss: 1.1083 - val_mse: 1.1083\n",
      "Epoch 5/2000\n",
      " - 23s - loss: 1.1947 - mse: 1.1181 - val_loss: 1.1081 - val_mse: 1.1081\n",
      "Epoch 6/2000\n",
      " - 23s - loss: 1.1947 - mse: 1.1181 - val_loss: 1.1084 - val_mse: 1.1084\n",
      "Epoch 7/2000\n",
      " - 23s - loss: 1.1947 - mse: 1.1181 - val_loss: 1.1081 - val_mse: 1.1081\n",
      "Epoch 8/2000\n",
      " - 23s - loss: 1.1947 - mse: 1.1181 - val_loss: 1.1082 - val_mse: 1.1082\n",
      "Epoch 9/2000\n",
      " - 23s - loss: 1.1947 - mse: 1.1181 - val_loss: 1.1079 - val_mse: 1.1079\n",
      "Epoch 10/2000\n",
      " - 23s - loss: 1.1946 - mse: 1.1181 - val_loss: 1.1084 - val_mse: 1.1084\n",
      "Epoch 11/2000\n",
      " - 23s - loss: 1.1947 - mse: 1.1181 - val_loss: 1.1083 - val_mse: 1.1083\n",
      "Epoch 12/2000\n",
      " - 23s - loss: 1.1947 - mse: 1.1181 - val_loss: 1.1081 - val_mse: 1.1081\n",
      "Epoch 13/2000\n",
      " - 23s - loss: 1.1947 - mse: 1.1181 - val_loss: 1.1082 - val_mse: 1.1082\n",
      "Epoch 14/2000\n",
      " - 23s - loss: 1.1947 - mse: 1.1181 - val_loss: 1.1081 - val_mse: 1.1081\n",
      "Epoch 15/2000\n",
      " - 23s - loss: 1.1947 - mse: 1.1181 - val_loss: 1.1080 - val_mse: 1.1080\n",
      "Epoch 16/2000\n",
      " - 23s - loss: 1.1947 - mse: 1.1181 - val_loss: 1.1082 - val_mse: 1.1082\n",
      "\n",
      "Epoch 00016: ReduceLROnPlateau reducing learning rate to 0.00010000000474974513.\n",
      "Epoch 17/2000\n",
      " - 23s - loss: 1.1947 - mse: 1.1181 - val_loss: 1.1083 - val_mse: 1.1083\n",
      "Epoch 18/2000\n",
      " - 23s - loss: 1.1947 - mse: 1.1181 - val_loss: 1.1083 - val_mse: 1.1083\n",
      "Epoch 19/2000\n",
      " - 23s - loss: 1.1947 - mse: 1.1181 - val_loss: 1.1082 - val_mse: 1.1082\n",
      "==================================================\n",
      "Step 14\n",
      "==================================================\n"
     ]
    },
    {
     "name": "stderr",
     "output_type": "stream",
     "text": [
      "C:\\ProgramData\\Anaconda3\\lib\\site-packages\\keras\\callbacks\\callbacks.py:998: UserWarning: `epsilon` argument is deprecated and will be removed, use `min_delta` instead.\n",
      "  warnings.warn('`epsilon` argument is deprecated and '\n"
     ]
    },
    {
     "name": "stdout",
     "output_type": "stream",
     "text": [
      "Train on 1340120 samples, validate on 167515 samples\n",
      "Epoch 1/2000\n",
      " - 24s - loss: 1.1625 - mse: 1.0857 - val_loss: 1.0487 - val_mse: 1.0487\n",
      "Epoch 2/2000\n",
      " - 23s - loss: 1.1624 - mse: 1.0857 - val_loss: 1.0488 - val_mse: 1.0488\n",
      "Epoch 3/2000\n",
      " - 23s - loss: 1.1624 - mse: 1.0856 - val_loss: 1.0494 - val_mse: 1.0494\n",
      "Epoch 4/2000\n",
      " - 23s - loss: 1.1624 - mse: 1.0857 - val_loss: 1.0487 - val_mse: 1.0487\n",
      "Epoch 5/2000\n",
      " - 23s - loss: 1.1624 - mse: 1.0856 - val_loss: 1.0494 - val_mse: 1.0494\n",
      "Epoch 6/2000\n",
      " - 23s - loss: 1.1624 - mse: 1.0856 - val_loss: 1.0498 - val_mse: 1.0498\n",
      "Epoch 7/2000\n",
      " - 23s - loss: 1.1624 - mse: 1.0857 - val_loss: 1.0494 - val_mse: 1.0494\n",
      "Epoch 8/2000\n",
      " - 23s - loss: 1.1624 - mse: 1.0857 - val_loss: 1.0492 - val_mse: 1.0492\n",
      "\n",
      "Epoch 00008: ReduceLROnPlateau reducing learning rate to 0.00010000000474974513.\n",
      "Epoch 9/2000\n",
      " - 23s - loss: 1.1624 - mse: 1.0857 - val_loss: 1.0491 - val_mse: 1.0491\n",
      "Epoch 10/2000\n",
      " - 23s - loss: 1.1624 - mse: 1.0857 - val_loss: 1.0491 - val_mse: 1.0491\n",
      "Epoch 11/2000\n",
      " - 23s - loss: 1.1624 - mse: 1.0857 - val_loss: 1.0491 - val_mse: 1.0491\n",
      "==================================================\n",
      "Step 15\n",
      "==================================================\n"
     ]
    },
    {
     "name": "stderr",
     "output_type": "stream",
     "text": [
      "C:\\ProgramData\\Anaconda3\\lib\\site-packages\\keras\\callbacks\\callbacks.py:998: UserWarning: `epsilon` argument is deprecated and will be removed, use `min_delta` instead.\n",
      "  warnings.warn('`epsilon` argument is deprecated and '\n"
     ]
    },
    {
     "name": "stdout",
     "output_type": "stream",
     "text": [
      "Train on 1340120 samples, validate on 167515 samples\n",
      "Epoch 1/2000\n",
      " - 24s - loss: 1.1850 - mse: 1.1024 - val_loss: 1.0606 - val_mse: 1.0606\n",
      "Epoch 2/2000\n",
      " - 23s - loss: 1.1849 - mse: 1.1023 - val_loss: 1.0614 - val_mse: 1.0614\n",
      "Epoch 3/2000\n",
      " - 23s - loss: 1.1849 - mse: 1.1023 - val_loss: 1.0614 - val_mse: 1.0614\n",
      "Epoch 4/2000\n",
      " - 23s - loss: 1.1849 - mse: 1.1023 - val_loss: 1.0619 - val_mse: 1.0619\n",
      "Epoch 5/2000\n",
      " - 23s - loss: 1.1850 - mse: 1.1024 - val_loss: 1.0616 - val_mse: 1.0616\n",
      "Epoch 6/2000\n",
      " - 23s - loss: 1.1849 - mse: 1.1023 - val_loss: 1.0613 - val_mse: 1.0613\n",
      "Epoch 7/2000\n",
      " - 23s - loss: 1.1849 - mse: 1.1023 - val_loss: 1.0611 - val_mse: 1.0611\n",
      "Epoch 8/2000\n",
      " - 23s - loss: 1.1849 - mse: 1.1023 - val_loss: 1.0612 - val_mse: 1.0612\n",
      "\n",
      "Epoch 00008: ReduceLROnPlateau reducing learning rate to 0.00010000000474974513.\n",
      "Epoch 9/2000\n",
      " - 23s - loss: 1.1849 - mse: 1.1023 - val_loss: 1.0612 - val_mse: 1.0612\n",
      "Epoch 10/2000\n",
      " - 23s - loss: 1.1849 - mse: 1.1023 - val_loss: 1.0612 - val_mse: 1.0612\n",
      "Epoch 11/2000\n",
      " - 23s - loss: 1.1849 - mse: 1.1023 - val_loss: 1.0612 - val_mse: 1.0612\n",
      "==================================================\n",
      "Step 16\n",
      "==================================================\n"
     ]
    },
    {
     "name": "stderr",
     "output_type": "stream",
     "text": [
      "C:\\ProgramData\\Anaconda3\\lib\\site-packages\\keras\\callbacks\\callbacks.py:998: UserWarning: `epsilon` argument is deprecated and will be removed, use `min_delta` instead.\n",
      "  warnings.warn('`epsilon` argument is deprecated and '\n"
     ]
    },
    {
     "name": "stdout",
     "output_type": "stream",
     "text": [
      "Train on 1340120 samples, validate on 167515 samples\n",
      "Epoch 1/2000\n",
      " - 24s - loss: 1.0613 - mse: 0.9924 - val_loss: 0.9875 - val_mse: 0.9875\n",
      "Epoch 2/2000\n",
      " - 23s - loss: 1.0612 - mse: 0.9924 - val_loss: 0.9876 - val_mse: 0.9876\n",
      "Epoch 3/2000\n",
      " - 23s - loss: 1.0612 - mse: 0.9924 - val_loss: 0.9874 - val_mse: 0.9874\n",
      "Epoch 4/2000\n",
      " - 23s - loss: 1.0612 - mse: 0.9924 - val_loss: 0.9873 - val_mse: 0.9873\n",
      "Epoch 5/2000\n",
      " - 23s - loss: 1.0612 - mse: 0.9924 - val_loss: 0.9872 - val_mse: 0.9872\n",
      "Epoch 6/2000\n",
      " - 23s - loss: 1.0612 - mse: 0.9923 - val_loss: 0.9877 - val_mse: 0.9877\n",
      "Epoch 7/2000\n",
      " - 23s - loss: 1.0612 - mse: 0.9924 - val_loss: 0.9878 - val_mse: 0.9878\n",
      "Epoch 8/2000\n",
      " - 23s - loss: 1.0612 - mse: 0.9924 - val_loss: 0.9874 - val_mse: 0.9874\n",
      "Epoch 9/2000\n",
      " - 23s - loss: 1.0612 - mse: 0.9923 - val_loss: 0.9875 - val_mse: 0.9875\n",
      "Epoch 10/2000\n",
      " - 23s - loss: 1.0612 - mse: 0.9924 - val_loss: 0.9875 - val_mse: 0.9875\n",
      "Epoch 11/2000\n",
      " - 23s - loss: 1.0612 - mse: 0.9924 - val_loss: 0.9877 - val_mse: 0.9877\n",
      "Epoch 12/2000\n",
      " - 23s - loss: 1.0612 - mse: 0.9923 - val_loss: 0.9877 - val_mse: 0.9877\n",
      "\n",
      "Epoch 00012: ReduceLROnPlateau reducing learning rate to 0.00010000000474974513.\n",
      "Epoch 13/2000\n",
      " - 23s - loss: 1.0612 - mse: 0.9924 - val_loss: 0.9875 - val_mse: 0.9875\n",
      "Epoch 14/2000\n",
      " - 23s - loss: 1.0612 - mse: 0.9923 - val_loss: 0.9874 - val_mse: 0.9874\n",
      "Epoch 15/2000\n",
      " - 23s - loss: 1.0612 - mse: 0.9924 - val_loss: 0.9875 - val_mse: 0.9875\n"
     ]
    }
   ],
   "source": [
    "N_EPOCHS = 2000\n",
    "\n",
    "val_pred = []\n",
    "test_pred = []\n",
    "# wtpath = 'weights.hdf5'  # To save best epoch. But need Keras bug to be fixed first.\n",
    "sample_weights=np.array( pd.concat([items[\"perishable\"]] * num_days) * 0.25 + 1 )\n",
    "for i in range(16):\n",
    "    print(\"=\" * 50)\n",
    "    print(\"Step %d\" % (i+1))\n",
    "    print(\"=\" * 50)\n",
    "    y = y_train[:, i]\n",
    "    y_mean = y.mean()\n",
    "    xv = X_val\n",
    "    yv = y_val[:, i]\n",
    "    model = build_model()\n",
    "    opt = optimizers.Adam(lr=0.001)\n",
    "    model.compile(loss='mse', optimizer=opt, metrics=['mse'])\n",
    "\n",
    "    callbacks = [\n",
    "        EarlyStopping(monitor='val_loss', patience=10, verbose=0),\n",
    "        ReduceLROnPlateau(monitor='val_loss', factor=0.1, patience=7, verbose=1, epsilon=1e-4, mode='min')\n",
    "        ]\n",
    "    model.fit(X_train, y - y_mean, batch_size = 65536, epochs = N_EPOCHS, verbose=2,\n",
    "               sample_weight=sample_weights, validation_data=(xv,yv-y_mean), callbacks=callbacks )\n",
    "    val_pred.append(model.predict(X_val)+y_mean)\n",
    "    test_pred.append(model.predict(X_test)+y_mean)"
   ]
  },
  {
   "cell_type": "code",
   "execution_count": 23,
   "metadata": {},
   "outputs": [
    {
     "name": "stdout",
     "output_type": "stream",
     "text": [
      "nwrmsle = 1.072684027988847\n"
     ]
    }
   ],
   "source": [
    "weight = items[\"perishable\"] * 0.25 + 1\n",
    "err = (y_val - np.array(val_pred).squeeze(axis=2).transpose())**2\n",
    "err = err.sum(axis=1) * weight\n",
    "err = np.sqrt(err.sum() / weight.sum() / 16)\n",
    "print('nwrmsle = {}'.format(err))\n",
    "\n",
    "y_val = np.array(val_pred).squeeze(axis=2).transpose()\n",
    "df_preds = pd.DataFrame(\n",
    "    y_val, index=df_2017.index,\n",
    "    columns=pd.date_range(\"2017-07-26\", periods=16)\n",
    ").stack().to_frame(\"unit_sales\")\n",
    "df_preds.index.set_names([\"store_nbr\", \"item_nbr\", \"date\"], inplace=True)\n",
    "df_preds[\"unit_sales\"] = np.clip(np.expm1(df_preds[\"unit_sales\"]), 0, 1000)\n",
    "df_preds.reset_index().to_csv('nn_cv.csv', index=False)"
   ]
  },
  {
   "cell_type": "code",
   "execution_count": 24,
   "metadata": {
    "scrolled": true
   },
   "outputs": [
    {
     "name": "stdout",
     "output_type": "stream",
     "text": [
      "Making submission...\n"
     ]
    }
   ],
   "source": [
    "print(\"Making submission...\")\n",
    "y_test = np.array(test_pred).squeeze(axis=2).transpose()\n",
    "df_preds = pd.DataFrame(\n",
    "    y_test, index=df_2017.index,\n",
    "    columns=pd.date_range(\"2017-08-16\", periods=16)\n",
    ").stack().to_frame(\"unit_sales\")\n",
    "df_preds.index.set_names([\"store_nbr\", \"item_nbr\", \"date\"], inplace=True)\n",
    "\n",
    "submission = df_test[[\"id\"]].join(df_preds, how=\"left\").fillna(0)\n",
    "submission[\"unit_sales\"] = np.clip(np.expm1(submission[\"unit_sales\"]), 0, 1000)\n",
    "submission.to_csv('nn_sub.csv', float_format='%.4f', index=None)"
   ]
  },
  {
   "cell_type": "code",
   "execution_count": null,
   "metadata": {},
   "outputs": [],
   "source": []
  },
  {
   "cell_type": "code",
   "execution_count": null,
   "metadata": {
    "scrolled": true
   },
   "outputs": [],
   "source": []
  },
  {
   "cell_type": "code",
   "execution_count": null,
   "metadata": {},
   "outputs": [],
   "source": []
  },
  {
   "cell_type": "code",
   "execution_count": null,
   "metadata": {},
   "outputs": [],
   "source": []
  },
  {
   "cell_type": "code",
   "execution_count": null,
   "metadata": {},
   "outputs": [],
   "source": []
  },
  {
   "cell_type": "code",
   "execution_count": null,
   "metadata": {},
   "outputs": [],
   "source": []
  }
 ],
 "metadata": {
  "kernelspec": {
   "display_name": "Python 3",
   "language": "python",
   "name": "python3"
  },
  "language_info": {
   "codemirror_mode": {
    "name": "ipython",
    "version": 3
   },
   "file_extension": ".py",
   "mimetype": "text/x-python",
   "name": "python",
   "nbconvert_exporter": "python",
   "pygments_lexer": "ipython3",
   "version": "3.7.6"
  }
 },
 "nbformat": 4,
 "nbformat_minor": 4
}
